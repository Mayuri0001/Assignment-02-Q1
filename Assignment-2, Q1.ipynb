{
 "cells": [
  {
   "cell_type": "markdown",
   "id": "9c2dbfb6",
   "metadata": {},
   "source": [
    "**Q1.WRITE A PYTHON PROGRAM TO GET A LIST, SORTED IN INCREASING ORDER BY THE LAST ELEMENT IN EACH TUPLE FROM A GIVEN LIST OF NON-EMPTY TUPLE.**\n"
   ]
  },
  {
   "cell_type": "code",
   "execution_count": 10,
   "id": "d3262e62",
   "metadata": {},
   "outputs": [
    {
     "name": "stdout",
     "output_type": "stream",
     "text": [
      "[(2, 1), (1, 2), (2, 3), (4, 4), (2, 5)] = sorted list\n"
     ]
    }
   ],
   "source": [
    "def last(n):\n",
    "    return n[-1]\n",
    "\n",
    "def list_to_be_sorted(tuples):\n",
    "    return sorted(tuples, key = last)\n",
    "\n",
    "print(list_to_be_sorted([(2,5),(1,2),(4,4),(2,3),(2,1)]),\"= sorted list\")"
   ]
  },
  {
   "cell_type": "code",
   "execution_count": null,
   "id": "3d8e5176",
   "metadata": {},
   "outputs": [],
   "source": []
  }
 ],
 "metadata": {
  "kernelspec": {
   "display_name": "Python 3 (ipykernel)",
   "language": "python",
   "name": "python3"
  },
  "language_info": {
   "codemirror_mode": {
    "name": "ipython",
    "version": 3
   },
   "file_extension": ".py",
   "mimetype": "text/x-python",
   "name": "python",
   "nbconvert_exporter": "python",
   "pygments_lexer": "ipython3",
   "version": "3.10.2"
  }
 },
 "nbformat": 4,
 "nbformat_minor": 5
}
